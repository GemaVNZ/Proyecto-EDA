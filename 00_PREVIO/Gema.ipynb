{
 "cells": [
  {
   "cell_type": "code",
   "execution_count": 1,
   "metadata": {},
   "outputs": [],
   "source": [
    "import pandas as pd "
   ]
  },
  {
   "cell_type": "code",
   "execution_count": 15,
   "metadata": {},
   "outputs": [
    {
     "data": {
      "text/plain": [
       "(   client_id            visitor_id                      visit_id process_step  \\\n",
       " 0    9988021  580560515_7732621733  781255054_21935453173_531117       step_3   \n",
       " 1    9988021  580560515_7732621733  781255054_21935453173_531117       step_2   \n",
       " 2    9988021  580560515_7732621733  781255054_21935453173_531117       step_3   \n",
       " 3    9988021  580560515_7732621733  781255054_21935453173_531117       step_2   \n",
       " 4    9988021  580560515_7732621733  781255054_21935453173_531117       step_3   \n",
       " \n",
       "              date_time  \n",
       " 0  2017-04-17 15:27:07  \n",
       " 1  2017-04-17 15:26:51  \n",
       " 2  2017-04-17 15:19:22  \n",
       " 3  2017-04-17 15:19:13  \n",
       " 4  2017-04-17 15:18:04  ,\n",
       "    client_id Variation\n",
       " 0    9988021      Test\n",
       " 1    8320017      Test\n",
       " 2    4033851   Control\n",
       " 3    1982004      Test\n",
       " 4    9294070   Control,\n",
       "    client_id  clnt_tenure_yr  clnt_tenure_mnth  clnt_age gendr  num_accts  \\\n",
       " 0     836976             6.0              73.0      60.5     U        2.0   \n",
       " 1    2304905             7.0              94.0      58.0     U        2.0   \n",
       " 2    1439522             5.0              64.0      32.0     U        2.0   \n",
       " 3    1562045            16.0             198.0      49.0     M        2.0   \n",
       " 4    5126305            12.0             145.0      33.0     F        2.0   \n",
       " \n",
       "          bal  calls_6_mnth  logons_6_mnth  \n",
       " 0   45105.30           6.0            9.0  \n",
       " 1  110860.30           6.0            9.0  \n",
       " 2   52467.79           6.0            9.0  \n",
       " 3   67454.65           3.0            6.0  \n",
       " 4  103671.75           0.0            3.0  )"
      ]
     },
     "execution_count": 15,
     "metadata": {},
     "output_type": "execute_result"
    }
   ],
   "source": [
    "archivo_combinado = '../CSV/df_web_data_combinado.csv'\n",
    "archivo_experimental = '../CSV/df_final_experiment_clients.csv'\n",
    "archivo_demo = '../CSV/df_final_demo.csv'\n",
    "\n",
    "df_final_web_data_combinado = pd.read_csv(archivo_combinado)\n",
    "df_experiment_clients = pd.read_csv(archivo_experimental)\n",
    "df_demo = pd.read_csv(archivo_demo)\n",
    "\n",
    "df_final_web_data_combinado.head(), df_experiment_clients.head(), df_demo.head() "
   ]
  }
 ],
 "metadata": {
  "kernelspec": {
   "display_name": "base",
   "language": "python",
   "name": "python3"
  },
  "language_info": {
   "codemirror_mode": {
    "name": "ipython",
    "version": 3
   },
   "file_extension": ".py",
   "mimetype": "text/x-python",
   "name": "python",
   "nbconvert_exporter": "python",
   "pygments_lexer": "ipython3",
   "version": "3.12.4"
  }
 },
 "nbformat": 4,
 "nbformat_minor": 2
}
