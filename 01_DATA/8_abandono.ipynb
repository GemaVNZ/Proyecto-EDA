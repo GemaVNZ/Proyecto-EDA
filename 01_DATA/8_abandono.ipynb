{
 "cells": [
  {
   "cell_type": "code",
   "execution_count": 2,
   "metadata": {},
   "outputs": [],
   "source": [
    "import pandas as pd "
   ]
  },
  {
   "cell_type": "code",
   "execution_count": 3,
   "metadata": {},
   "outputs": [],
   "source": [
    "df_web_data = pd.read_csv('../CSV/df_web_data_combinado.csv')\n",
    "df_experiment_clients = pd.read_csv('../CSV/df_final_experiment_clients.csv')\n",
    "df_demo = pd.read_csv('../CSV/df_final_demo.csv')"
   ]
  },
  {
   "cell_type": "code",
   "execution_count": 5,
   "metadata": {},
   "outputs": [
    {
     "data": {
      "text/plain": [
       "Index(['client_id', 'visitor_id', 'visit_id', 'process_step', 'date_time'], dtype='object')"
      ]
     },
     "execution_count": 5,
     "metadata": {},
     "output_type": "execute_result"
    }
   ],
   "source": [
    "df_web_data.columns\n"
   ]
  },
  {
   "cell_type": "code",
   "execution_count": 6,
   "metadata": {},
   "outputs": [
    {
     "data": {
      "text/plain": [
       "Index(['client_id', 'Variation'], dtype='object')"
      ]
     },
     "execution_count": 6,
     "metadata": {},
     "output_type": "execute_result"
    }
   ],
   "source": [
    "df_experiment_clients.columns"
   ]
  },
  {
   "cell_type": "code",
   "execution_count": 18,
   "metadata": {},
   "outputs": [
    {
     "name": "stdout",
     "output_type": "stream",
     "text": [
      "['step_3' 'step_2' 'step_1' 'start' 'confirm']\n"
     ]
    }
   ],
   "source": [
    "print(df_web_data['process_step'].unique())"
   ]
  },
  {
   "cell_type": "code",
   "execution_count": 19,
   "metadata": {},
   "outputs": [
    {
     "name": "stdout",
     "output_type": "stream",
     "text": [
      "  process_step  unique_clients\n",
      "0      confirm           81145\n",
      "1        start          118980\n",
      "2       step_1          104978\n",
      "3       step_2           96943\n",
      "4       step_3           91076\n"
     ]
    }
   ],
   "source": [
    "steps_data = df_web_data.groupby('process_step')['client_id'].nunique().reset_index()\n",
    "steps_data.columns = ['process_step', 'unique_clients']\n",
    "print(steps_data)"
   ]
  },
  {
   "cell_type": "code",
   "execution_count": 20,
   "metadata": {},
   "outputs": [
    {
     "name": "stdout",
     "output_type": "stream",
     "text": [
      "  process_step  unique_clients  abandon_rate\n",
      "0      confirm           81145     31.799462\n",
      "1        start          118980    -13.338033\n",
      "2       step_1          104978     -8.288376\n",
      "3       step_2           96943     -6.441873\n",
      "4       step_3           91076           NaN\n"
     ]
    }
   ],
   "source": [
    "steps_data['abandon_rate'] = steps_data['unique_clients'].pct_change(periods=-1) * -100\n",
    "print(steps_data)"
   ]
  },
  {
   "cell_type": "code",
   "execution_count": 21,
   "metadata": {},
   "outputs": [],
   "source": [
    "df_merged = df_web_data.merge(df_experiment_clients, on='client_id', how='left')"
   ]
  },
  {
   "cell_type": "code",
   "execution_count": 23,
   "metadata": {},
   "outputs": [
    {
     "name": "stdout",
     "output_type": "stream",
     "text": [
      "Variation     Control   Test  abandon_rate_control  abandon_rate_test\n",
      "process_step                                                         \n",
      "confirm         15434  18687             34.034278          29.956145\n",
      "start           23397  26679            -16.102620          -9.939424\n",
      "step_1          20152  24267             -8.053619          -9.025968\n",
      "step_2          18650  22258             -7.048559          -6.594512\n",
      "step_3          17422  20881                   NaN                NaN\n"
     ]
    }
   ],
   "source": [
    "steps_experiment = df_merged.groupby(['process_step', 'Variation'])['client_id'].nunique().reset_index()\n",
    "steps_experiment = steps_experiment.pivot(index='process_step', columns='Variation', values='client_id')\n",
    "steps_experiment['abandon_rate_control'] = steps_experiment['Control'].pct_change(periods=-1) * -100\n",
    "steps_experiment['abandon_rate_test'] = steps_experiment['Test'].pct_change(periods=-1) * -100\n",
    "print(steps_experiment)"
   ]
  }
 ],
 "metadata": {
  "kernelspec": {
   "display_name": "base",
   "language": "python",
   "name": "python3"
  },
  "language_info": {
   "codemirror_mode": {
    "name": "ipython",
    "version": 3
   },
   "file_extension": ".py",
   "mimetype": "text/x-python",
   "name": "python",
   "nbconvert_exporter": "python",
   "pygments_lexer": "ipython3",
   "version": "3.12.4"
  }
 },
 "nbformat": 4,
 "nbformat_minor": 2
}
