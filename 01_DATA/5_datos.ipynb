{
 "cells": [
  {
   "cell_type": "code",
   "execution_count": 6,
   "metadata": {},
   "outputs": [
    {
     "name": "stderr",
     "output_type": "stream",
     "text": [
      "/var/folders/gj/ny5jghyx665704696cg6yfdm0000gn/T/ipykernel_70096/2928254202.py:6: DtypeWarning: Columns (9) have mixed types. Specify dtype option on import or set low_memory=False.\n",
      "  df_demo_expanded = pd.read_csv('../CSV/df_demo_expanded.csv')\n"
     ]
    }
   ],
   "source": [
    "import pandas as pd\n",
    "\n",
    "\n",
    "df_web_data_combinado = pd.read_csv('../CSV/df_web_data_combinado.csv')\n",
    "df_final_experiment_clients = pd.read_csv('../CSV/df_final_experiment_clients.csv')\n",
    "df_demo_expanded = pd.read_csv('../CSV/df_demo_expanded.csv')"
   ]
  },
  {
   "cell_type": "code",
   "execution_count": 7,
   "metadata": {},
   "outputs": [
    {
     "name": "stdout",
     "output_type": "stream",
     "text": [
      "<class 'pandas.core.frame.DataFrame'>\n",
      "RangeIndex: 70595 entries, 0 to 70594\n",
      "Data columns (total 11 columns):\n",
      " #   Column               Non-Null Count  Dtype  \n",
      "---  ------               --------------  -----  \n",
      " 0   client_id            70595 non-null  int64  \n",
      " 1   clnt_tenure_yr       70595 non-null  float64\n",
      " 2   clnt_tenure_mnth     70595 non-null  float64\n",
      " 3   clnt_age             70595 non-null  float64\n",
      " 4   gendr                70595 non-null  object \n",
      " 5   num_accts            70595 non-null  float64\n",
      " 6   bal                  70595 non-null  float64\n",
      " 7   calls_6_mnth         70595 non-null  float64\n",
      " 8   logons_6_mnth        70595 non-null  float64\n",
      " 9   Variation            50488 non-null  object \n",
      " 10  total_tenure_months  70595 non-null  float64\n",
      "dtypes: float64(8), int64(1), object(2)\n",
      "memory usage: 5.9+ MB\n"
     ]
    },
    {
     "data": {
      "text/plain": [
       "(None,\n",
       " client_id                  0\n",
       " clnt_tenure_yr             0\n",
       " clnt_tenure_mnth           0\n",
       " clnt_age                   0\n",
       " gendr                      0\n",
       " num_accts                  0\n",
       " bal                        0\n",
       " calls_6_mnth               0\n",
       " logons_6_mnth              0\n",
       " Variation              20107\n",
       " total_tenure_months        0\n",
       " dtype: int64,\n",
       " '../CSV/df_demo_expanded_limpio.csv')"
      ]
     },
     "execution_count": 7,
     "metadata": {},
     "output_type": "execute_result"
    }
   ],
   "source": [
    "# Fill or drop missing values based on context\n",
    "\n",
    "# Replace missing numeric values with their column mean\n",
    "numeric_columns = df_demo_expanded.select_dtypes(include=['float64']).columns\n",
    "df_demo_expanded[numeric_columns] = df_demo_expanded[numeric_columns].fillna(df_demo_expanded[numeric_columns].mean())\n",
    "\n",
    "# Replace missing categorical values (e.g., 'gendr') with a placeholder or mode\n",
    "if 'gendr' in df_demo_expanded.columns:\n",
    "    df_demo_expanded['gendr'] = df_demo_expanded['gendr'].fillna('Unknown')\n",
    "\n",
    "# Confirm cleaning\n",
    "cleaned_info = df_demo_expanded.info()\n",
    "cleaned_missing_values = df_demo_expanded.isnull().sum()\n",
    "\n",
    "# Save cleaned file\n",
    "cleaned_path = '../CSV/df_demo_expanded_limpio.csv'\n",
    "df_demo_expanded.to_csv(cleaned_path, index=False)\n",
    "\n",
    "cleaned_info, cleaned_missing_values, cleaned_path\n"
   ]
  },
  {
   "cell_type": "code",
   "execution_count": null,
   "metadata": {},
   "outputs": [],
   "source": [
    "df_demo_expanded"
   ]
  },
  {
   "cell_type": "code",
   "execution_count": 3,
   "metadata": {},
   "outputs": [],
   "source": [
    "\n",
    "df_web_data_combinado['client_id'] = pd.to_numeric(df_web_data_combinado['client_id'], errors='coerce')\n",
    "\n",
    "if 'date_time' in df_web_data_combinado.columns:\n",
    "    df_web_data_combinado['date_time'] = pd.to_datetime(df_web_data_combinado['date_time'], errors='coerce')\n",
    "\n",
    "output_path = '../CSV/df_web_data_combinado_cleaned.csv'\n",
    "df_web_data_combinado.to_csv(output_path, index=False)"
   ]
  },
  {
   "cell_type": "code",
   "execution_count": null,
   "metadata": {},
   "outputs": [],
   "source": []
  },
  {
   "cell_type": "code",
   "execution_count": null,
   "metadata": {},
   "outputs": [],
   "source": []
  },
  {
   "cell_type": "code",
   "execution_count": null,
   "metadata": {},
   "outputs": [],
   "source": [
    "df_web_data_combinado"
   ]
  },
  {
   "cell_type": "code",
   "execution_count": null,
   "metadata": {},
   "outputs": [],
   "source": [
    "df_final_experiment_clients\n"
   ]
  }
 ],
 "metadata": {
  "kernelspec": {
   "display_name": "Python 3",
   "language": "python",
   "name": "python3"
  },
  "language_info": {
   "codemirror_mode": {
    "name": "ipython",
    "version": 3
   },
   "file_extension": ".py",
   "mimetype": "text/x-python",
   "name": "python",
   "nbconvert_exporter": "python",
   "pygments_lexer": "ipython3",
   "version": "3.8.2"
  }
 },
 "nbformat": 4,
 "nbformat_minor": 2
}
