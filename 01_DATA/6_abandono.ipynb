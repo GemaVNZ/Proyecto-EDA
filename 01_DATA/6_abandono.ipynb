{
 "cells": [
  {
   "cell_type": "code",
   "execution_count": 2,
   "metadata": {},
   "outputs": [],
   "source": [
    "import pandas as pd "
   ]
  },
  {
   "cell_type": "code",
   "execution_count": 3,
   "metadata": {},
   "outputs": [],
   "source": [
    "df_web_data = pd.read_csv('../CSV/df_web_data_combinado.csv')\n",
    "df_experiment_clients = pd.read_csv('../CSV/df_final_experiment_clients.csv')\n",
    "df_demo = pd.read_csv('../CSV/df_final_demo.csv')"
   ]
  },
  {
   "cell_type": "code",
   "execution_count": 4,
   "metadata": {},
   "outputs": [
    {
     "data": {
      "text/plain": [
       "Index(['client_id', 'visitor_id', 'visit_id', 'process_step', 'date_time'], dtype='object')"
      ]
     },
     "execution_count": 4,
     "metadata": {},
     "output_type": "execute_result"
    }
   ],
   "source": [
    "df_web_data.columns\n"
   ]
  },
  {
   "cell_type": "code",
   "execution_count": 5,
   "metadata": {},
   "outputs": [
    {
     "data": {
      "text/plain": [
       "Index(['client_id', 'Variation'], dtype='object')"
      ]
     },
     "execution_count": 5,
     "metadata": {},
     "output_type": "execute_result"
    }
   ],
   "source": [
    "df_experiment_clients.columns"
   ]
  },
  {
   "cell_type": "code",
   "execution_count": 6,
   "metadata": {},
   "outputs": [
    {
     "name": "stdout",
     "output_type": "stream",
     "text": [
      "['step_3' 'step_2' 'step_1' 'start' 'confirm']\n"
     ]
    }
   ],
   "source": [
    "print(df_web_data['process_step'].unique())"
   ]
  },
  {
   "cell_type": "code",
   "execution_count": 18,
   "metadata": {},
   "outputs": [],
   "source": [
    "import numpy as np"
   ]
  },
  {
   "cell_type": "code",
   "execution_count": 19,
   "metadata": {},
   "outputs": [
    {
     "name": "stdout",
     "output_type": "stream",
     "text": [
      "  process_step  unique_clients\n",
      "0      confirm           81145\n",
      "1        start          118980\n",
      "2       step_1          104978\n",
      "3       step_2           96943\n",
      "4       step_3           91076\n",
      "  process_step  unique_clients  abandon_rate\n",
      "0      confirm           81145    -31.799462\n",
      "1        start          118980     13.338033\n",
      "2       step_1          104978      8.288376\n",
      "3       step_2           96943      6.441873\n",
      "4       step_3           91076      0.000000\n",
      "Variation     Control   Test  abandon_rate_control  abandon_rate_test\n",
      "process_step                                                         \n",
      "confirm         15434  18687              0.000000           0.000000\n",
      "start           23397  26679             13.869299           9.040819\n",
      "step_1          20152  24267              7.453355           8.278732\n",
      "step_2          18650  22258              6.584450           6.186540\n",
      "step_3          17422  20881              0.000000           0.000000\n"
     ]
    }
   ],
   "source": [
    "# Agrupamos por process_step para calcular los clientes únicos en cada paso\n",
    "steps_data = df_web_data.groupby('process_step')['client_id'].nunique().reset_index()\n",
    "steps_data.columns = ['process_step', 'unique_clients']\n",
    "print(steps_data)\n",
    "\n",
    "# Calculamos la tasa de abandono general\n",
    "steps_data['abandon_rate'] = steps_data['unique_clients'].pct_change(periods=-1) * 100\n",
    "\n",
    "# Rellenamos NaN en la última fila (porque no hay siguiente paso para comparar)\n",
    "steps_data['abandon_rate'] = steps_data['abandon_rate'].fillna(0)\n",
    "print(steps_data)\n",
    "\n",
    "# Mezclamos los datos con la variación del experimento\n",
    "df_merged = df_web_data.merge(df_experiment_clients, on='client_id', how='left')\n",
    "\n",
    "# Agrupamos por step y variación\n",
    "steps_experiment = df_merged.groupby(['process_step', 'Variation'])['client_id'].nunique().reset_index()\n",
    "\n",
    "# Pivotamos para obtener columnas separadas para Control y Test\n",
    "steps_experiment = steps_experiment.pivot(index='process_step', columns='Variation', values='client_id')\n",
    "\n",
    "# Calculamos la tasa de abandono para Control\n",
    "steps_experiment['abandon_rate_control'] = (\n",
    "    steps_experiment['Control'].diff(periods=-1).clip(lower=0) / \n",
    "    steps_experiment['Control'].replace(0, np.nan) * 100\n",
    ")\n",
    "\n",
    "# Calculamos la tasa de abandono para Test\n",
    "steps_experiment['abandon_rate_test'] = (\n",
    "    steps_experiment['Test'].diff(periods=-1).clip(lower=0) / \n",
    "    steps_experiment['Test'].replace(0, np.nan) * 100\n",
    ")\n",
    "\n",
    "# Rellenamos los valores NaN generados por la última fila o divisiones por 0\n",
    "steps_experiment.fillna(0, inplace=True)\n",
    "\n",
    "print(steps_experiment)\n"
   ]
  }
 ],
 "metadata": {
  "kernelspec": {
   "display_name": "base",
   "language": "python",
   "name": "python3"
  },
  "language_info": {
   "codemirror_mode": {
    "name": "ipython",
    "version": 3
   },
   "file_extension": ".py",
   "mimetype": "text/x-python",
   "name": "python",
   "nbconvert_exporter": "python",
   "pygments_lexer": "ipython3",
   "version": "3.12.4"
  }
 },
 "nbformat": 4,
 "nbformat_minor": 2
}
