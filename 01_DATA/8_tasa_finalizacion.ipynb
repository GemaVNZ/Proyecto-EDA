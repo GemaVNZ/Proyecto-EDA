{
 "cells": [
  {
   "cell_type": "code",
   "execution_count": 3,
   "metadata": {},
   "outputs": [],
   "source": [
    "import pandas as pd\n",
    "from statsmodels.stats.proportion import proportions_ztest\n",
    "import numpy as np\n",
    "\n",
    "df_web_data = pd.read_csv('../02_DATA_LIMPIO/df_web_data_combinado_limpio.csv')\n",
    "df_expanded = pd.read_csv('../02_DATA_LIMPIO/df_final_expanded_limpio.csv')"
   ]
  },
  {
   "cell_type": "code",
   "execution_count": 10,
   "metadata": {},
   "outputs": [
    {
     "name": "stdout",
     "output_type": "stream",
     "text": [
      "Columnas en df_web_data:\n",
      "Index(['client_id', 'visitor_id', 'visit_id', 'process_step', 'date_time'], dtype='object')\n",
      "\n",
      "Columnas en df_expanded:\n",
      "Index(['client_id', 'clnt_tenure_yr', 'clnt_tenure_mnth', 'clnt_age', 'gendr',\n",
      "       'num_accts', 'bal', 'calls_6_mnth', 'logons_6_mnth', 'Variation',\n",
      "       'total_tenure_months'],\n",
      "      dtype='object')\n"
     ]
    }
   ],
   "source": [
    "# Cargar los archivos\n",
    "df_web_data = pd.read_csv('../02_DATA_LIMPIO/df_web_data_combinado_limpio.csv')\n",
    "df_expanded = pd.read_csv('../02_DATA_LIMPIO/df_final_expanded_limpio.csv')\n",
    "\n",
    "# Mostrar columnas de cada archivo\n",
    "print(\"Columnas en df_web_data:\")\n",
    "print(df_web_data.columns)\n",
    "\n",
    "print(\"\\nColumnas en df_expanded:\")\n",
    "print(df_expanded.columns)"
   ]
  },
  {
   "cell_type": "code",
   "execution_count": 11,
   "metadata": {},
   "outputs": [],
   "source": [
    "# Hacemos un merge de los datos usando 'client_id' como clave común\n",
    "df_merged = pd.merge(df_web_data, df_expanded, on='client_id', how='inner')"
   ]
  },
  {
   "cell_type": "code",
   "execution_count": 12,
   "metadata": {},
   "outputs": [],
   "source": [
    "# Filtro los grupos según la columna 'Variation'\n",
    "grupo_control = df_merged[df_merged['Variation'] == 'control']\n",
    "grupo_prueba = df_merged[df_merged['Variation'] == 'test']"
   ]
  },
  {
   "cell_type": "code",
   "execution_count": 13,
   "metadata": {},
   "outputs": [],
   "source": [
    "# Calculo finalizaciones (process_step == 'confirm') y visitas únicas\n",
    "finalizados_control = grupo_control[grupo_control['process_step'] == 'confirm'].shape[0]\n",
    "finalizados_prueba = grupo_prueba[grupo_prueba['process_step'] == 'confirm'].shape[0]\n",
    "n_control = grupo_control['visit_id'].nunique()\n",
    "n_prueba = grupo_prueba['visit_id'].nunique()"
   ]
  },
  {
   "cell_type": "code",
   "execution_count": 14,
   "metadata": {},
   "outputs": [
    {
     "name": "stdout",
     "output_type": "stream",
     "text": [
      "Finalizaciones - Control: 17498, Prueba: 25716\n",
      "Visitas únicas - Control: 32181, Prueba: 37122\n"
     ]
    }
   ],
   "source": [
    "print(f\"Finalizaciones - Control: {finalizados_control}, Prueba: {finalizados_prueba}\")\n",
    "print(f\"Visitas únicas - Control: {n_control}, Prueba: {n_prueba}\")"
   ]
  },
  {
   "cell_type": "markdown",
   "metadata": {},
   "source": [
    "**Prueba estadística y evaluar el umbral**"
   ]
  },
  {
   "cell_type": "code",
   "execution_count": 15,
   "metadata": {},
   "outputs": [],
   "source": [
    "from statsmodels.stats.proportion import proportions_ztest\n",
    "import numpy as np"
   ]
  },
  {
   "cell_type": "code",
   "execution_count": 16,
   "metadata": {},
   "outputs": [],
   "source": [
    "# Prueba de proporciones Z-test\n",
    "counts = np.array([finalizados_prueba, finalizados_control])  # Finalizaciones\n",
    "nobs = np.array([n_prueba, n_control])  # Total de visitas únicas"
   ]
  },
  {
   "cell_type": "code",
   "execution_count": 17,
   "metadata": {},
   "outputs": [],
   "source": [
    "z_stat, p_value = proportions_ztest(count=counts, nobs=nobs, alternative='two-sided')"
   ]
  },
  {
   "cell_type": "code",
   "execution_count": 18,
   "metadata": {},
   "outputs": [],
   "source": [
    "# Calculo las tasas\n",
    "tasa_control = finalizados_control / n_control\n",
    "tasa_prueba = finalizados_prueba / n_prueba\n",
    "diferencia_tasa = (tasa_prueba - tasa_control) * 100"
   ]
  },
  {
   "cell_type": "code",
   "execution_count": 19,
   "metadata": {},
   "outputs": [
    {
     "name": "stdout",
     "output_type": "stream",
     "text": [
      "Estadístico Z: 40.38\n",
      "Valor p: 0.0000\n",
      "Tasa de finalización - Control: 54.37%\n",
      "Tasa de finalización - Prueba: 69.27%\n",
      "Diferencia de tasas: 14.90%\n"
     ]
    }
   ],
   "source": [
    "print(f\"Estadístico Z: {z_stat:.2f}\")\n",
    "print(f\"Valor p: {p_value:.4f}\")\n",
    "print(f\"Tasa de finalización - Control: {tasa_control:.2%}\")\n",
    "print(f\"Tasa de finalización - Prueba: {tasa_prueba:.2%}\")\n",
    "print(f\"Diferencia de tasas: {diferencia_tasa:.2f}%\")"
   ]
  },
  {
   "cell_type": "code",
   "execution_count": 20,
   "metadata": {},
   "outputs": [
    {
     "name": "stdout",
     "output_type": "stream",
     "text": [
      "La diferencia de tasas supera el umbral del 5%.\n"
     ]
    }
   ],
   "source": [
    "# Evaluar el umbral del 5%\n",
    "umbral = 5\n",
    "if diferencia_tasa > umbral:\n",
    "    print(\"La diferencia de tasas supera el umbral del 5%.\")\n",
    "else:\n",
    "    print(\"La diferencia de tasas no supera el umbral del 5%.\")"
   ]
  },
  {
   "cell_type": "code",
   "execution_count": 21,
   "metadata": {},
   "outputs": [],
   "source": [
    "# Creo un df con los resultados resumidos\n",
    "resultados = pd.DataFrame({\n",
    "    'Grupo': ['Control', 'Prueba'],\n",
    "    'Tasa de Finalización': [tasa_control * 100, tasa_prueba * 100],\n",
    "    'Finalizaciones': [finalizados_control, finalizados_prueba],\n",
    "    'Total Visitas': [n_control, n_prueba]\n",
    "})"
   ]
  },
  {
   "cell_type": "code",
   "execution_count": 23,
   "metadata": {},
   "outputs": [],
   "source": [
    "resultados.to_csv('../02_DATA_LIMPIO/resultados_finalizacion.csv', index=False)"
   ]
  },
  {
   "cell_type": "markdown",
   "metadata": {},
   "source": [
    "**Comparar tasas por género**"
   ]
  },
  {
   "cell_type": "code",
   "execution_count": 27,
   "metadata": {},
   "outputs": [],
   "source": [
    "import pandas as pd\n",
    "from scipy.stats import chi2_contingency, ttest_ind"
   ]
  },
  {
   "cell_type": "code",
   "execution_count": 28,
   "metadata": {},
   "outputs": [],
   "source": [
    "# Crea una columna binaria 'finalizo' para identificar finalizaciones\n",
    "df_merged['finalizo'] = df_merged['process_step'] == 'confirm'"
   ]
  },
  {
   "cell_type": "code",
   "execution_count": 29,
   "metadata": {},
   "outputs": [
    {
     "name": "stdout",
     "output_type": "stream",
     "text": [
      "Comparación por Género:\n",
      "finalizo  False  True \n",
      "gendr                 \n",
      "F         90569  13721\n",
      "M         93011  15002\n",
      "U         94393  14491\n",
      "X             8      0\n",
      "Chi-cuadrado: 28.70, p-valor: 0.0000\n"
     ]
    }
   ],
   "source": [
    "tabla_gendr = pd.crosstab(df_merged['gendr'], df_merged['finalizo'])\n",
    "\n",
    "# Prueba chi-cuadrado\n",
    "chi2, p_gendr, dof, expected = chi2_contingency(tabla_gendr)\n",
    "\n",
    "print(\"Comparación por Género:\")\n",
    "print(tabla_gendr)\n",
    "print(f\"Chi-cuadrado: {chi2:.2f}, p-valor: {p_gendr:.4f}\")"
   ]
  },
  {
   "cell_type": "code",
   "execution_count": 30,
   "metadata": {},
   "outputs": [],
   "source": [
    "# Dividimos la edad en grupos\n",
    "df_merged['edad_grupo'] = pd.cut(df_merged['clnt_age'], bins=[0, 30, 50, 70, 100], labels=[\"<30\", \"30-50\", \"50-70\", \"70+\"])"
   ]
  },
  {
   "cell_type": "code",
   "execution_count": 31,
   "metadata": {},
   "outputs": [
    {
     "name": "stdout",
     "output_type": "stream",
     "text": [
      "Tasas de finalización por grupo de edad:\n",
      "edad_grupo\n",
      "<30      14.126309\n",
      "30-50    14.010055\n",
      "50-70    12.937783\n",
      "70+      12.111657\n",
      "Name: finalizo, dtype: float64\n"
     ]
    }
   ],
   "source": [
    "# Calculo tasas de finalización por grupo de edad\n",
    "tasas_edad = df_merged.groupby('edad_grupo')['finalizo'].mean() * 100\n",
    "print(\"Tasas de finalización por grupo de edad:\")\n",
    "print(tasas_edad)"
   ]
  },
  {
   "cell_type": "code",
   "execution_count": 33,
   "metadata": {},
   "outputs": [
    {
     "name": "stdout",
     "output_type": "stream",
     "text": [
      "ANOVA para edad: F=38.34, p-valor=0.0000\n"
     ]
    }
   ],
   "source": [
    "# ANOVA para comparar grupos de edad\n",
    "grupos_edad = [df_merged[df_merged['edad_grupo'] == g]['finalizo'].astype(int) for g in df_merged['edad_grupo'].unique()]\n",
    "from scipy.stats import f_oneway\n",
    "anova_edad = f_oneway(*grupos_edad)\n",
    "print(f\"ANOVA para edad: F={anova_edad.statistic:.2f}, p-valor={anova_edad.pvalue:.4f}\")"
   ]
  },
  {
   "cell_type": "code",
   "execution_count": 34,
   "metadata": {},
   "outputs": [
    {
     "name": "stdout",
     "output_type": "stream",
     "text": [
      "Tasas de finalización por número de cuentas:\n",
      "num_accts_grupo\n",
      "1-2     12.988470\n",
      "3-5     15.088661\n",
      "6-10    20.975610\n",
      "11+           NaN\n",
      "Name: finalizo, dtype: float64\n",
      "ANOVA para número de cuentas: F=109.19, p-valor=0.0000\n"
     ]
    }
   ],
   "source": [
    "# Crear grupos de número de cuentas\n",
    "df_merged['num_accts_grupo'] = pd.cut(df_merged['num_accts'], bins=[0, 2, 5, 10, 20], labels=[\"1-2\", \"3-5\", \"6-10\", \"11+\"])\n",
    "\n",
    "# Calcular tasas\n",
    "tasas_cuentas = df_merged.groupby('num_accts_grupo')['finalizo'].mean() * 100\n",
    "print(\"Tasas de finalización por número de cuentas:\")\n",
    "print(tasas_cuentas)\n",
    "\n",
    "# Prueba ANOVA\n",
    "grupos_cuentas = [df_merged[df_merged['num_accts_grupo'] == g]['finalizo'].astype(int) for g in df_merged['num_accts_grupo'].unique()]\n",
    "anova_cuentas = f_oneway(*grupos_cuentas)\n",
    "print(f\"ANOVA para número de cuentas: F={anova_cuentas.statistic:.2f}, p-valor={anova_cuentas.pvalue:.4f}\")\n"
   ]
  },
  {
   "cell_type": "markdown",
   "metadata": {},
   "source": [
    "**Conclusiones**\n",
    "\n",
    "Edad:\n",
    "\n",
    "- Los usuarios menores de 30 años y entre 30-50 años tienen tasas de finalización más altas.\n",
    "- Los usuarios mayores de 50 años, especialmente los 70+, tienen tasas de finalización más bajas.\n",
    "\n",
    "Número de cuentas:\n",
    "- Los usuarios con 6-10 cuentas tienen una tasa de finalización significativamente más alta (20.98%) en comparación con otros grupos.\n",
    "- Los usuarios con 3-5 cuentas también muestran mejores tasas que aquellos con solo 1-2 cuentas.\n"
   ]
  }
 ],
 "metadata": {
  "kernelspec": {
   "display_name": "Python 3",
   "language": "python",
   "name": "python3"
  },
  "language_info": {
   "codemirror_mode": {
    "name": "ipython",
    "version": 3
   },
   "file_extension": ".py",
   "mimetype": "text/x-python",
   "name": "python",
   "nbconvert_exporter": "python",
   "pygments_lexer": "ipython3",
   "version": "3.8.2"
  }
 },
 "nbformat": 4,
 "nbformat_minor": 2
}
