{
 "cells": [
  {
   "cell_type": "code",
   "execution_count": 1,
   "metadata": {},
   "outputs": [],
   "source": [
    "import pandas as pd\n",
    "\n",
    "df_web_data = pd.read_csv('../02_DATA_LIMPIO/df_web_data_combinado_limpio.csv')\n",
    "df_expanded = pd.read_csv('../02_DATA_LIMPIO/df_final_expanded_limpio.csv')"
   ]
  },
  {
   "cell_type": "code",
   "execution_count": 2,
   "metadata": {},
   "outputs": [],
   "source": [
    "df_merged = pd.merge(df_web_data, df_expanded, on='client_id', how='inner')"
   ]
  },
  {
   "cell_type": "code",
   "execution_count": 3,
   "metadata": {},
   "outputs": [],
   "source": [
    "# Creo una columna para marcar si el cliente completó el proceso\n",
    "df_merged['finalizo'] = df_merged['process_step'] == 'confirm'"
   ]
  },
  {
   "cell_type": "code",
   "execution_count": 4,
   "metadata": {},
   "outputs": [
    {
     "name": "stdout",
     "output_type": "stream",
     "text": [
      "Resumen estadístico de la actividad digital:\n",
      "          logons_6_mnth  calls_6_mnth\n",
      "finalizo                             \n",
      "False          6.269119      3.230670\n",
      "True           6.313440      3.276484\n"
     ]
    }
   ],
   "source": [
    "# Resumen estadístico de las variables de actividad digital\n",
    "actividad_digital = df_merged[['finalizo', 'logons_6_mnth', 'calls_6_mnth']]\n",
    "print(\"Resumen estadístico de la actividad digital:\")\n",
    "print(actividad_digital.groupby('finalizo').mean())"
   ]
  },
  {
   "cell_type": "code",
   "execution_count": 5,
   "metadata": {},
   "outputs": [
    {
     "name": "stdout",
     "output_type": "stream",
     "text": [
      "Correlación entre logins y finalización: 0.01\n",
      "Correlación entre llamadas y finalización: 0.01\n"
     ]
    }
   ],
   "source": [
    "# Correlación entre las variables de actividad digital y finalización\n",
    "correlacion_logons = df_merged['finalizo'].astype(int).corr(df_merged['logons_6_mnth'])\n",
    "correlacion_calls = df_merged['finalizo'].astype(int).corr(df_merged['calls_6_mnth'])\n",
    "\n",
    "print(f\"Correlación entre logins y finalización: {correlacion_logons:.2f}\")\n",
    "print(f\"Correlación entre llamadas y finalización: {correlacion_calls:.2f}\")"
   ]
  },
  {
   "cell_type": "code",
   "execution_count": 6,
   "metadata": {},
   "outputs": [
    {
     "name": "stdout",
     "output_type": "stream",
     "text": [
      "Prueba t para logins: t=3.93, p=0.0001\n",
      "Prueba t para llamadas: t=4.04, p=0.0001\n"
     ]
    }
   ],
   "source": [
    "from scipy.stats import ttest_ind\n",
    "\n",
    "# Divido grupos en finalizadores y no finalizadores\n",
    "finalizadores = df_merged[df_merged['finalizo']]\n",
    "no_finalizadores = df_merged[~df_merged['finalizo']]\n",
    "\n",
    "# Prueba t para logons_6_mnth\n",
    "t_logons, p_logons = ttest_ind(finalizadores['logons_6_mnth'], no_finalizadores['logons_6_mnth'])\n",
    "print(f\"Prueba t para logins: t={t_logons:.2f}, p={p_logons:.4f}\")\n",
    "\n",
    "# Prueba t para calls_6_mnth\n",
    "t_calls, p_calls = ttest_ind(finalizadores['calls_6_mnth'], no_finalizadores['calls_6_mnth'])\n",
    "print(f\"Prueba t para llamadas: t={t_calls:.2f}, p={p_calls:.4f}\")"
   ]
  },
  {
   "cell_type": "markdown",
   "metadata": {},
   "source": [
    "**Conclusión**\n",
    "- La actividad digital (logins y llamadas) tiene un efecto estadísticamente significativo, aunque no lineal, en la finalización del proceso.\n",
    "- Los usuarios que completan el proceso muestran mayores valores promedio de logons_6_mnth y calls_6_mnth."
   ]
  }
 ],
 "metadata": {
  "kernelspec": {
   "display_name": "Python 3",
   "language": "python",
   "name": "python3"
  },
  "language_info": {
   "codemirror_mode": {
    "name": "ipython",
    "version": 3
   },
   "file_extension": ".py",
   "mimetype": "text/x-python",
   "name": "python",
   "nbconvert_exporter": "python",
   "pygments_lexer": "ipython3",
   "version": "3.8.2"
  }
 },
 "nbformat": 4,
 "nbformat_minor": 2
}
